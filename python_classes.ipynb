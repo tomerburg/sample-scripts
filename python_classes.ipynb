{
 "cells": [
  {
   "cell_type": "markdown",
   "metadata": {},
   "source": [
    "# Python classes\n",
    "\n",
    "This script provides an introduction to Python classes and object-oriented programming in Python.\n",
    "\n",
    "- Created by: Tomer Burg\n",
    "- Last updated: 23 March 2022"
   ]
  },
  {
   "cell_type": "markdown",
   "metadata": {},
   "source": [
    "## What is a Class?\n",
    "\n",
    "The concept of classes and objects in Python may sound unfamiliar to many - but do you know you've been using them in many cases? Python packages such as datetime, Cartopy, Basemap, etc. all use object oriented programming.\n",
    "\n",
    "Let's write a simple Class to illustrate how this works:"
   ]
  },
  {
   "cell_type": "code",
   "execution_count": 1,
   "metadata": {},
   "outputs": [],
   "source": [
    "# Classes are defined with the word \"class\", followed by the name of the Class.\n",
    "# Conventionally, class names start with an upper-case letter, in contrast to function names which start with\n",
    "# lower-case letters.\n",
    "\n",
    "class Test:\n",
    "    \n",
    "    # Every Class has an \"__init__\" function, which is used to initialize the Class. The first argument of this\n",
    "    # method is always \"self\", followed by any additional optional arguments.\n",
    "    \n",
    "    def __init__(self,value):\n",
    "        \n",
    "        # Everywhere in a Class, \"self\" refers to itself. So by saying \"self.value\", we're creating a variable called\n",
    "        # \"value\" that's an attribute of this class, and storing it within the class. This variable can be accessed\n",
    "        # anywhere from the class using \"self.value\".\n",
    "        \n",
    "        self.value = value\n",
    "    \n",
    "    # Classes can also contain methods, or functions that belong to the class. By providing an argument of \"self\", this\n",
    "    # method can access any other attribute or method within the class.\n",
    "    \n",
    "    def print_value(self):\n",
    "        \n",
    "        # As we previously defined \"self.value\" as an attribute of this Class, this method simply retrieves this value\n",
    "        # and prints it.\n",
    "        \n",
    "        print(\"The value stored in this object is:\")\n",
    "        print(self.value)\n",
    "    \n",
    "    # This method takes a new value and uses it to modify the originally created value.\n",
    "    \n",
    "    def modify_value(self,new_value):\n",
    "        \n",
    "        self.value = new_value\n",
    "        "
   ]
  },
  {
   "cell_type": "markdown",
   "metadata": {},
   "source": [
    "Running the above code results in no visible output, but creates a Class we can now use.\n",
    "\n",
    "How do we use this class? First we create an instance of `Test` and store it in a variable called `obj`, which is now an object. Thus the object `obj` is now an instance of Test, and can access all of its attributes and methods.\n",
    "\n",
    "When creating an instance of `Test`, the `__init__()` method is called by default. But notice how even though `__init__` has 2 arguments, we only pass 1 argument below. In object syntax, `self` is internal to the object; we don't reference it ourselves outside of the object."
   ]
  },
  {
   "cell_type": "code",
   "execution_count": 2,
   "metadata": {},
   "outputs": [],
   "source": [
    "obj = Test(5)"
   ]
  },
  {
   "cell_type": "markdown",
   "metadata": {},
   "source": [
    "Since we passed the value `5` to Test, following the code in the `__init__()` method we can conclude that the `value` attribute of `obj` has a value of 5.\n",
    "\n",
    "Let's access this attribute of obj:"
   ]
  },
  {
   "cell_type": "code",
   "execution_count": 3,
   "metadata": {},
   "outputs": [
    {
     "name": "stdout",
     "output_type": "stream",
     "text": [
      "5\n"
     ]
    }
   ],
   "source": [
    "print(obj.value)"
   ]
  },
  {
   "cell_type": "markdown",
   "metadata": {},
   "source": [
    "We can now call the object's `print_value()` method. As previously mentioned, `self` is internal to the object, and since this method has one argument which is `self`, we don't pass any arguments below."
   ]
  },
  {
   "cell_type": "code",
   "execution_count": 4,
   "metadata": {},
   "outputs": [
    {
     "name": "stdout",
     "output_type": "stream",
     "text": [
      "The value stored in this object is:\n",
      "5\n"
     ]
    }
   ],
   "source": [
    "obj.print_value()"
   ]
  },
  {
   "cell_type": "markdown",
   "metadata": {},
   "source": [
    "Let's use the `modify_value()` method to modify the value:"
   ]
  },
  {
   "cell_type": "code",
   "execution_count": 5,
   "metadata": {},
   "outputs": [
    {
     "name": "stdout",
     "output_type": "stream",
     "text": [
      "The value stored in this object is:\n",
      "12\n"
     ]
    }
   ],
   "source": [
    "obj.modify_value(12)\n",
    "obj.print_value()"
   ]
  },
  {
   "cell_type": "markdown",
   "metadata": {},
   "source": [
    "## Example 1: Simple Class\n",
    "\n",
    "Let's look at a simple application of classes. Say we want to track current weather conditions in multiple locations. One way to do this would be to store many variables corresponding to each location's weather conditions:"
   ]
  },
  {
   "cell_type": "code",
   "execution_count": 6,
   "metadata": {},
   "outputs": [],
   "source": [
    "knyc_temperature = 32.0\n",
    "knyc_dewpoint = 27.0\n",
    "knyc_wind = 4.0\n",
    "\n",
    "kphl_temperature = 38.0\n",
    "kphl_dewpoint = 29.0\n",
    "kphl_wind = 7.0\n",
    "\n",
    "kdca_temperature = 44.0\n",
    "kdca_dewpoint = 32.0\n",
    "kdca_wind = 6.0"
   ]
  },
  {
   "cell_type": "markdown",
   "metadata": {},
   "source": [
    "Let's also say we want to calculate dewpoint depression for each location. We can write a `dewpoint_depression()` function which takes temperature and dewpoints as input arguments, and returns dewpoint depression, which we'll store in 3 variables, one for each location."
   ]
  },
  {
   "cell_type": "code",
   "execution_count": 7,
   "metadata": {},
   "outputs": [
    {
     "name": "stdout",
     "output_type": "stream",
     "text": [
      "5.0\n",
      "9.0\n",
      "12.0\n"
     ]
    }
   ],
   "source": [
    "def dewpoint_depression(temperature, dewpoint):\n",
    "    \n",
    "    value = temperature - dewpoint\n",
    "    print(value)\n",
    "    \n",
    "    return value\n",
    "\n",
    "knyc_dewpoint_depression = dewpoint_depression(knyc_temperature, knyc_dewpoint)\n",
    "kphl_dewpoint_depression = dewpoint_depression(kphl_temperature, kphl_dewpoint)\n",
    "kdca_dewpoint_depression = dewpoint_depression(kdca_temperature, kdca_dewpoint)"
   ]
  },
  {
   "cell_type": "markdown",
   "metadata": {},
   "source": [
    "That would be a lot of variables to continuously keep track of! A way to alleviate this is by creating a generic class which retains information on an arbitrary location's current weather conditions, and create multiple objects that correspond to each of the above locations.\n",
    "\n",
    "We'll do this by creating a class called `Location` with three methods, an `__init__()` method which stores the location's weather as attributes, and a second `print_weather()` method which outputs these attributes for the user to view. We'll also include a `dewpoint_depression()` method to calculate dewpoint depression for each location."
   ]
  },
  {
   "cell_type": "code",
   "execution_count": 8,
   "metadata": {},
   "outputs": [],
   "source": [
    "class Location:\n",
    "    \n",
    "    def __init__(self, location, temperature, dewpoint, wind):\n",
    "        \n",
    "        self.location = location\n",
    "        self.temperature = temperature\n",
    "        self.dewpoint = dewpoint\n",
    "        self.wind = wind\n",
    "\n",
    "    def print_weather(self):\n",
    "        \n",
    "        print(f\"Current weather for: {self.location}\")\n",
    "        print(f\"Temperature: {self.temperature}\")\n",
    "        print(f\"Dewpoint: {self.dewpoint}\")\n",
    "        print(f\"Wind: {self.wind}\")\n",
    "    \n",
    "    def dewpoint_depression(self):\n",
    "        \n",
    "        self.dp_depression = self.temperature - self.dewpoint\n",
    "        print(f\"Dewpoint depression for {self.location}: {self.dp_depression}\")"
   ]
  },
  {
   "cell_type": "markdown",
   "metadata": {},
   "source": [
    "Let's now create three instances of Location and store them as three separate objects, one for each location:"
   ]
  },
  {
   "cell_type": "code",
   "execution_count": 9,
   "metadata": {},
   "outputs": [],
   "source": [
    "knyc = Location(location = 'knyc', temperature = 32.0, dewpoint = 27.0, wind = 4.0)\n",
    "kphl = Location(location = 'kphl', temperature = 38.0, dewpoint = 29.0, wind = 7.0)\n",
    "kdca = Location(location = 'kdca', temperature = 44.0, dewpoint = 32.0, wind = 6.0)"
   ]
  },
  {
   "cell_type": "markdown",
   "metadata": {},
   "source": [
    "Now use the `print_weather()` method to look at its output for each of the 3 locations:"
   ]
  },
  {
   "cell_type": "code",
   "execution_count": 10,
   "metadata": {},
   "outputs": [
    {
     "name": "stdout",
     "output_type": "stream",
     "text": [
      "Current weather for: knyc\n",
      "Temperature: 32.0\n",
      "Dewpoint: 27.0\n",
      "Wind: 4.0\n"
     ]
    }
   ],
   "source": [
    "knyc.print_weather()"
   ]
  },
  {
   "cell_type": "code",
   "execution_count": 11,
   "metadata": {},
   "outputs": [
    {
     "name": "stdout",
     "output_type": "stream",
     "text": [
      "Current weather for: kphl\n",
      "Temperature: 38.0\n",
      "Dewpoint: 29.0\n",
      "Wind: 7.0\n"
     ]
    }
   ],
   "source": [
    "kphl.print_weather()"
   ]
  },
  {
   "cell_type": "code",
   "execution_count": 12,
   "metadata": {},
   "outputs": [
    {
     "name": "stdout",
     "output_type": "stream",
     "text": [
      "Current weather for: kdca\n",
      "Temperature: 44.0\n",
      "Dewpoint: 32.0\n",
      "Wind: 6.0\n"
     ]
    }
   ],
   "source": [
    "kdca.print_weather()"
   ]
  },
  {
   "cell_type": "markdown",
   "metadata": {},
   "source": [
    "As `dewpoint_depression()` is now a method of each object, we can simply calculate it for each location without needing to provide any input arguments:"
   ]
  },
  {
   "cell_type": "code",
   "execution_count": 13,
   "metadata": {},
   "outputs": [
    {
     "name": "stdout",
     "output_type": "stream",
     "text": [
      "Dewpoint depression for knyc: 5.0\n"
     ]
    }
   ],
   "source": [
    "knyc.dewpoint_depression()"
   ]
  },
  {
   "cell_type": "code",
   "execution_count": 14,
   "metadata": {},
   "outputs": [
    {
     "name": "stdout",
     "output_type": "stream",
     "text": [
      "Dewpoint depression for kphl: 9.0\n"
     ]
    }
   ],
   "source": [
    "kphl.dewpoint_depression()"
   ]
  },
  {
   "cell_type": "code",
   "execution_count": 15,
   "metadata": {},
   "outputs": [
    {
     "name": "stdout",
     "output_type": "stream",
     "text": [
      "Dewpoint depression for kdca: 12.0\n"
     ]
    }
   ],
   "source": [
    "kdca.dewpoint_depression()"
   ]
  },
  {
   "cell_type": "markdown",
   "metadata": {},
   "source": [
    "## Example 2: More Complex Class\n",
    "\n",
    "Let's take an example with a function that has many arguments. This randomly written function takes 5 variables and adds a random perturbation to them. This function is then called 100 times, with the output from each iteration stored for later use."
   ]
  },
  {
   "cell_type": "code",
   "execution_count": 16,
   "metadata": {},
   "outputs": [],
   "source": [
    "import numpy as np\n",
    "\n",
    "def complex_function(temperature,dew_point,pressure,u,v,temp_perturb,pressure_perturb,wind_perturb):\n",
    "    \n",
    "    \"\"\"\n",
    "    This function takes the input parameters and applies a random perturbation to them,\n",
    "    scaling from 0 to the maximum number provided.\n",
    "    \"\"\"\n",
    "    \n",
    "    new_temperature = temperature + ((np.random.rand() * temp_perturb) - (temp_perturb / 2.0))\n",
    "    new_dew_point = dew_point + ((np.random.rand() * temp_perturb) - (temp_perturb / 2.0))\n",
    "    new_pressure = pressure + ((np.random.rand() * pressure_perturb) - (pressure_perturb / 2.0))\n",
    "    new_u = u + ((np.random.rand() * wind_perturb) - (wind_perturb / 2.0))\n",
    "    new_v = v + ((np.random.rand() * wind_perturb) - (wind_perturb / 2.0))\n",
    "    \n",
    "    return new_temperature, new_dew_point, new_pressure, new_u, new_v\n",
    "\n",
    "#Create an initial perturbation\n",
    "t,d,p,u,v = complex_function(32,28,1012,4,6,1.0,2.0,0.5)\n",
    "\n",
    "#Iterate for 100 times and record the output\n",
    "t_list = []\n",
    "d_list = []\n",
    "p_list = []\n",
    "u_list = []\n",
    "v_list = []\n",
    "\n",
    "for i in range(100):\n",
    "    t,d,p,u,v = complex_function(t,d,p,u,v,1.0,2.0,0.5)\n",
    "    t_list.append(t)\n",
    "    d_list.append(d)\n",
    "    p_list.append(p)\n",
    "    u_list.append(u)\n",
    "    v_list.append(v)"
   ]
  },
  {
   "cell_type": "markdown",
   "metadata": {},
   "source": [
    "This is how the above would be written as an object:"
   ]
  },
  {
   "cell_type": "code",
   "execution_count": 17,
   "metadata": {},
   "outputs": [],
   "source": [
    "import numpy as np\n",
    "\n",
    "class Class:\n",
    "    \n",
    "    def __init__(self,temperature,dew_point,pressure,u,v,temp_perturb,pressure_perturb,wind_perturb):\n",
    "        \n",
    "        self.temperature = temperature\n",
    "        self.dew_point = dew_point\n",
    "        self.pressure = pressure\n",
    "        self.u = u\n",
    "        self.v = v\n",
    "        \n",
    "        self.temp_perturb = temp_perturb\n",
    "        self.pressure_perturb = pressure_perturb\n",
    "        self.wind_perturb = wind_perturb\n",
    "        \n",
    "        #Lists for storing results\n",
    "        self.t_list = []\n",
    "        self.d_list = []\n",
    "        self.p_list = []\n",
    "        self.u_list = []\n",
    "        self.v_list = []\n",
    "        \n",
    "    def complex_function(self):\n",
    "\n",
    "        \"\"\"\n",
    "        This function takes the input parameters and applies a random perturbation to them,\n",
    "        scaling from 0 to the maximum number provided.\n",
    "        \"\"\"\n",
    "\n",
    "        self.temperature = self.temperature + ((np.random.rand() * self.temp_perturb) - (self.temp_perturb / 2.0))\n",
    "        self.dew_point = self.dew_point + ((np.random.rand() * self.temp_perturb) - (self.temp_perturb / 2.0))\n",
    "        self.pressure = self.pressure + ((np.random.rand() * self.pressure_perturb) - (self.pressure_perturb / 2.0))\n",
    "        self.u = self.u + ((np.random.rand() * self.wind_perturb) - (self.wind_perturb / 2.0))\n",
    "        self.v = self.v + ((np.random.rand() * self.wind_perturb) - (self.wind_perturb / 2.0))\n",
    "\n",
    "        self.t_list.append(self.temperature)\n",
    "        self.d_list.append(self.dew_point)\n",
    "        self.p_list.append(self.pressure)\n",
    "        self.u_list.append(self.u)\n",
    "        self.v_list.append(self.v)\n",
    "\n",
    "#Create an initial perturbation\n",
    "obj = Class(32,28,1012,4,6,1.0,2.0,0.5)\n",
    "\n",
    "#Iterate for 100 times\n",
    "for i in range(100):\n",
    "    obj.complex_function()"
   ]
  },
  {
   "cell_type": "markdown",
   "metadata": {},
   "source": [
    "This is just one random example, and many more sophisticated examples of where objects help exist, but this shows how we now avoid the need to have functions with many arguments, since they're all stored within the object. We also don't need to return the output from the function every time, since it's also stored in the object.\n",
    "\n",
    "Another way using objects can help is where multiple functions exist and need to continuously pass variables between each other. Using an object means these functions can be part of the same object, and have access to the same set of variables as attributes of the objects."
   ]
  }
 ],
 "metadata": {
  "kernelspec": {
   "display_name": "Python [conda env:test3]",
   "language": "python",
   "name": "conda-env-test3-py"
  },
  "language_info": {
   "codemirror_mode": {
    "name": "ipython",
    "version": 3
   },
   "file_extension": ".py",
   "mimetype": "text/x-python",
   "name": "python",
   "nbconvert_exporter": "python",
   "pygments_lexer": "ipython3",
   "version": "3.6.7"
  }
 },
 "nbformat": 4,
 "nbformat_minor": 2
}
