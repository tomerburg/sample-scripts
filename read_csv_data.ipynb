{
 "cells": [
  {
   "cell_type": "markdown",
   "metadata": {},
   "source": [
    "# Reading and Analyzing CSV Data\n",
    "\n",
    "This script provides examples of reading and analyzing comma separated values (CSV) files.\n",
    "\n",
    "- Created by: Tomer Burg\n",
    "- Last updated: 22 March 2022"
   ]
  },
  {
   "cell_type": "markdown",
   "metadata": {},
   "source": [
    "Let's start with importing the packages we'll need. If you don't have these packages, make sure to install them - they're highly useful!"
   ]
  },
  {
   "cell_type": "code",
   "execution_count": 1,
   "metadata": {},
   "outputs": [],
   "source": [
    "import os\n",
    "import numpy as np\n",
    "import pandas as pd"
   ]
  },
  {
   "cell_type": "markdown",
   "metadata": {},
   "source": [
    "## Method 1: Pure python"
   ]
  },
  {
   "cell_type": "markdown",
   "metadata": {},
   "source": [
    "Provided in this directory is a `temperature.csv` file, containing hypothetical temperatures for a whole month. This file has 3 columns: Day, Max, Min. The latter two represent the maximum and minimum degrees in Fahrenheit.\n",
    "\n",
    "Python provides a built-in `open()` function, which is used to read and write to files. This function takes 2 arguments:\n",
    "\n",
    "- File name (relative or full path)\n",
    "- Flag indicating what to do with the file:\n",
    "  - \"r\" = read the file\n",
    "  - \"a\" = append to the file (write to the file starting with the end of the file's content)\n",
    "  - \"w\" = write to the file (overwriting its previous content)\n",
    "\n",
    "The output is a pointer to the file, which we'll store in a variable `f`."
   ]
  },
  {
   "cell_type": "code",
   "execution_count": 2,
   "metadata": {},
   "outputs": [],
   "source": [
    "#We're using this function to read the contents of \"temperature.csv\", and storing it in the variable \"f\".\n",
    "f = open(\"temperature.csv\",\"r\")"
   ]
  },
  {
   "cell_type": "markdown",
   "metadata": {},
   "source": [
    "This next block of code reads all the lines within the file, and stores it in a variable `content`. We'll also close the pointer to the file, as we now have all the information we need from it."
   ]
  },
  {
   "cell_type": "code",
   "execution_count": 3,
   "metadata": {},
   "outputs": [],
   "source": [
    "content = f.readlines()\n",
    "f.close()"
   ]
  },
  {
   "cell_type": "markdown",
   "metadata": {},
   "source": [
    "`content` is now a list containing all lines within the file. Note that they're by default read in as strings."
   ]
  },
  {
   "cell_type": "code",
   "execution_count": 4,
   "metadata": {},
   "outputs": [
    {
     "name": "stdout",
     "output_type": "stream",
     "text": [
      "['Day,Max,Min\\n', '1,57,32\\n', '2,65,33\\n', '3,74,52\\n', '4,76,38\\n', '5,40,22\\n', '6,28,12\\n', '7,26,8\\n', '8,31,-2\\n', '9,35,2\\n', '10,28,12\\n', '11,26,5\\n', '12,22,-6\\n', '13,31,-1\\n', '14,36,9\\n', '15,49,22\\n', '16,55,32\\n', '17,53,48\\n', '18,56,27\\n', '19,39,22\\n', '20,35,24\\n', '21,41,26\\n', '22,38,28\\n', '23,33,25\\n', '24,35,22\\n', '25,44,19\\n', '26,52,29\\n', '27,61,41\\n', '28,64,52']\n"
     ]
    }
   ],
   "source": [
    "print(content)"
   ]
  },
  {
   "cell_type": "markdown",
   "metadata": {},
   "source": [
    "Notice that every entry ends in a line break `\\n` character. We can use list comprehension to remove this:"
   ]
  },
  {
   "cell_type": "code",
   "execution_count": 5,
   "metadata": {},
   "outputs": [
    {
     "name": "stdout",
     "output_type": "stream",
     "text": [
      "['Day,Max,Min', '1,57,32', '2,65,33', '3,74,52', '4,76,38', '5,40,22', '6,28,12', '7,26,8', '8,31,-2', '9,35,2', '10,28,12', '11,26,5', '12,22,-6', '13,31,-1', '14,36,9', '15,49,22', '16,55,32', '17,53,48', '18,56,27', '19,39,22', '20,35,24', '21,41,26', '22,38,28', '23,33,25', '24,35,22', '25,44,19', '26,52,29', '27,61,41', '28,64,52']\n"
     ]
    }
   ],
   "source": [
    "content = [i.split(\"\\n\")[0] for i in content]\n",
    "print(content)"
   ]
  },
  {
   "cell_type": "markdown",
   "metadata": {},
   "source": [
    "Let's start by organizing the data in a dictionary. To create the keys for the dictionary, we'll look at the first element of `content`, as this contains the column names."
   ]
  },
  {
   "cell_type": "code",
   "execution_count": 6,
   "metadata": {},
   "outputs": [
    {
     "name": "stdout",
     "output_type": "stream",
     "text": [
      "{'Day': [], 'Max': [], 'Min': []}\n"
     ]
    }
   ],
   "source": [
    "#Define an empty dictionary to store the data in\n",
    "data = {}\n",
    "\n",
    "#Create an empty list for every column, with its key corresponding to the column name\n",
    "column_names = content[0].split(\",\")\n",
    "for key in column_names:\n",
    "    data[key] = []\n",
    "\n",
    "print(data)"
   ]
  },
  {
   "cell_type": "markdown",
   "metadata": {},
   "source": [
    "We're now ready to populate our dictionary with data from the file! For this, we'll iterate over every line of content after the first line (since that was the header line).\n",
    "\n",
    "As we iterate over every line, we'll split it into a comma-separated list, then iterate over the column names using Python's `enumerate` function, matching each column's entry with its corresponding column name and dictionary entry. Since the entries are all strings, we'll also convert them to integers."
   ]
  },
  {
   "cell_type": "code",
   "execution_count": 7,
   "metadata": {},
   "outputs": [
    {
     "name": "stdout",
     "output_type": "stream",
     "text": [
      "{'Day': [1, 2, 3, 4, 5, 6, 7, 8, 9, 10, 11, 12, 13, 14, 15, 16, 17, 18, 19, 20, 21, 22, 23, 24, 25, 26, 27, 28], 'Max': [57, 65, 74, 76, 40, 28, 26, 31, 35, 28, 26, 22, 31, 36, 49, 55, 53, 56, 39, 35, 41, 38, 33, 35, 44, 52, 61, 64], 'Min': [32, 33, 52, 38, 22, 12, 8, -2, 2, 12, 5, -6, -1, 9, 22, 32, 48, 27, 22, 24, 26, 28, 25, 22, 19, 29, 41, 52]}\n"
     ]
    }
   ],
   "source": [
    "for line in content[1:]:\n",
    "    line_array = line.split(\",\")\n",
    "    for idx,key in enumerate(column_names):\n",
    "        data[key].append(int(line_array[idx]))\n",
    "\n",
    "print(data)"
   ]
  },
  {
   "cell_type": "markdown",
   "metadata": {},
   "source": [
    "The above loop may look complicated, but it's essentially a condensed way of doing the following:"
   ]
  },
  {
   "cell_type": "code",
   "execution_count": 8,
   "metadata": {},
   "outputs": [],
   "source": [
    "data_2 = {\n",
    "    'Day': [],\n",
    "    'Max': [],\n",
    "    'Min': [],\n",
    "}\n",
    "\n",
    "for line in content[1:]:\n",
    "    line_array = line.split(\",\")\n",
    "    \n",
    "    line_day = int(line_array[0])\n",
    "    line_max = int(line_array[1])\n",
    "    line_min = int(line_array[2])\n",
    "    \n",
    "    data_2['Day'].append(line_day)\n",
    "    data_2['Max'].append(line_max)\n",
    "    data_2['Min'].append(line_min)"
   ]
  },
  {
   "cell_type": "markdown",
   "metadata": {},
   "source": [
    "Let's say we want to look at the maximum and minimum temperatures on the 5th of the month. This is how we would do it:"
   ]
  },
  {
   "cell_type": "code",
   "execution_count": 9,
   "metadata": {},
   "outputs": [
    {
     "name": "stdout",
     "output_type": "stream",
     "text": [
      "Max: 40, Min: 22\n"
     ]
    }
   ],
   "source": [
    "idx = data['Day'].index(5)\n",
    "max_temp = data['Max'][idx]\n",
    "min_temp = data['Min'][idx]\n",
    "print(f\"Max: {max_temp}, Min: {min_temp}\")"
   ]
  },
  {
   "cell_type": "markdown",
   "metadata": {},
   "source": [
    "## Method 2: Read with Numpy"
   ]
  },
  {
   "cell_type": "markdown",
   "metadata": {},
   "source": [
    "Numpy also provides functionality to read CSV files. A major caveat to this, however, is that as Numpy arrays require all elements to be of the same type, it cannot read a file with string headers followed by integer/float entries.\n",
    "\n",
    "For this purpose, a file without headers `temperature_noheader.csv` is provided in this directory as well."
   ]
  },
  {
   "cell_type": "code",
   "execution_count": 10,
   "metadata": {},
   "outputs": [],
   "source": [
    "data = np.loadtxt(\"temperature_noheader.csv\",delimiter=\",\")"
   ]
  },
  {
   "cell_type": "markdown",
   "metadata": {},
   "source": [
    "Let's look at what the file contains:"
   ]
  },
  {
   "cell_type": "code",
   "execution_count": 11,
   "metadata": {},
   "outputs": [
    {
     "name": "stdout",
     "output_type": "stream",
     "text": [
      "[[ 1. 57. 32.]\n",
      " [ 2. 65. 33.]\n",
      " [ 3. 74. 52.]\n",
      " [ 4. 76. 38.]\n",
      " [ 5. 40. 22.]\n",
      " [ 6. 28. 12.]\n",
      " [ 7. 26.  8.]\n",
      " [ 8. 31. -2.]\n",
      " [ 9. 35.  2.]\n",
      " [10. 28. 12.]\n",
      " [11. 26.  5.]\n",
      " [12. 22. -6.]\n",
      " [13. 31. -1.]\n",
      " [14. 36.  9.]\n",
      " [15. 49. 22.]\n",
      " [16. 55. 32.]\n",
      " [17. 53. 48.]\n",
      " [18. 56. 27.]\n",
      " [19. 39. 22.]\n",
      " [20. 35. 24.]\n",
      " [21. 41. 26.]\n",
      " [22. 38. 28.]\n",
      " [23. 33. 25.]\n",
      " [24. 35. 22.]\n",
      " [25. 44. 19.]\n",
      " [26. 52. 29.]\n",
      " [27. 61. 41.]\n",
      " [28. 64. 52.]]\n"
     ]
    }
   ],
   "source": [
    "print(data)"
   ]
  },
  {
   "cell_type": "markdown",
   "metadata": {},
   "source": [
    "We now have the data stored in a 2D Numpy array as floats. Note the problem with this is that we don't have access to headers, so we need to know beforehand what each column and row represents.\n",
    "\n",
    "Let's repeat the previous exercise and get the maximum and minimum temperatures on the 5th of the month. First, we need to find the row where the 5th day of the month is, by taking the first column of the 2D array above and finding the index of the 5th element."
   ]
  },
  {
   "cell_type": "code",
   "execution_count": 12,
   "metadata": {},
   "outputs": [
    {
     "name": "stdout",
     "output_type": "stream",
     "text": [
      "Max: 40.0, Min: 22.0\n"
     ]
    }
   ],
   "source": [
    "first_column = data[:,0]\n",
    "idx = np.where(first_column == 5)[0][0]\n",
    "max_temp = data[idx,1]\n",
    "min_temp = data[idx,2]\n",
    "print(f\"Max: {max_temp}, Min: {min_temp}\")"
   ]
  },
  {
   "cell_type": "markdown",
   "metadata": {},
   "source": [
    "## Method 3: Read CSV with Pandas"
   ]
  },
  {
   "cell_type": "markdown",
   "metadata": {},
   "source": [
    "Pandas is a highly useful Python package with many methods to analyze data. Pandas stores data as `Dataframes`, which contain headers and rows unlike Numpy arrays.\n",
    "\n",
    "Let's read the original temperature file into Pandas:"
   ]
  },
  {
   "cell_type": "code",
   "execution_count": 13,
   "metadata": {},
   "outputs": [],
   "source": [
    "df = pd.read_csv(\"temperature.csv\",delimiter=',')"
   ]
  },
  {
   "cell_type": "markdown",
   "metadata": {},
   "source": [
    "Now let's look at what `data` contains:"
   ]
  },
  {
   "cell_type": "code",
   "execution_count": 14,
   "metadata": {},
   "outputs": [
    {
     "name": "stdout",
     "output_type": "stream",
     "text": [
      "    Day  Max  Min\n",
      "0     1   57   32\n",
      "1     2   65   33\n",
      "2     3   74   52\n",
      "3     4   76   38\n",
      "4     5   40   22\n",
      "5     6   28   12\n",
      "6     7   26    8\n",
      "7     8   31   -2\n",
      "8     9   35    2\n",
      "9    10   28   12\n",
      "10   11   26    5\n",
      "11   12   22   -6\n",
      "12   13   31   -1\n",
      "13   14   36    9\n",
      "14   15   49   22\n",
      "15   16   55   32\n",
      "16   17   53   48\n",
      "17   18   56   27\n",
      "18   19   39   22\n",
      "19   20   35   24\n",
      "20   21   41   26\n",
      "21   22   38   28\n",
      "22   23   33   25\n",
      "23   24   35   22\n",
      "24   25   44   19\n",
      "25   26   52   29\n",
      "26   27   61   41\n",
      "27   28   64   52\n"
     ]
    }
   ],
   "source": [
    "print(df)"
   ]
  },
  {
   "cell_type": "markdown",
   "metadata": {},
   "source": [
    "Once again, we'll retrieve the max and min temperature on the 5th day of the month."
   ]
  },
  {
   "cell_type": "code",
   "execution_count": 15,
   "metadata": {},
   "outputs": [
    {
     "name": "stdout",
     "output_type": "stream",
     "text": [
      "Max: 40, Min: 22\n"
     ]
    }
   ],
   "source": [
    "row = df.loc[df['Day'] == 5]\n",
    "max_temp = row['Max'].values[0]\n",
    "min_temp = row['Min'].values[0]\n",
    "print(f\"Max: {max_temp}, Min: {min_temp}\")"
   ]
  },
  {
   "cell_type": "markdown",
   "metadata": {},
   "source": [
    "We've now read in CSV files using 3 different methods! Refer to other scripts in this directory for ways to analyze this data now that we've read it in."
   ]
  }
 ],
 "metadata": {
  "kernelspec": {
   "display_name": "Python [conda env:test3]",
   "language": "python",
   "name": "conda-env-test3-py"
  },
  "language_info": {
   "codemirror_mode": {
    "name": "ipython",
    "version": 3
   },
   "file_extension": ".py",
   "mimetype": "text/x-python",
   "name": "python",
   "nbconvert_exporter": "python",
   "pygments_lexer": "ipython3",
   "version": "3.6.7"
  }
 },
 "nbformat": 4,
 "nbformat_minor": 2
}
