{
 "cells": [
  {
   "cell_type": "markdown",
   "metadata": {},
   "source": [
    "# Date analysis in Python\n",
    "\n",
    "This script provides an introduction to Python dictionaries and simple usage examples.\n",
    "\n",
    "- Created by: Tomer Burg\n",
    "- Last modified: 28 March 2022"
   ]
  },
  {
   "cell_type": "markdown",
   "metadata": {},
   "source": [
    "## What is a dictionary?\n",
    "\n",
    "Simply stated, a Python dictionary is a way to store items using pairs of keys and their corresponding values.\n",
    "\n",
    "Let's say you want to store information on a location's current weather conditions. You could simply do this by maintaining a large list of variables:"
   ]
  },
  {
   "cell_type": "code",
   "execution_count": 1,
   "metadata": {},
   "outputs": [],
   "source": [
    "location_temperature = 32.0\n",
    "location_dewpoint = 27.0\n",
    "location_wind = 4.0"
   ]
  },
  {
   "cell_type": "markdown",
   "metadata": {},
   "source": [
    "Alternatively, you can store this in a dictionary!\n",
    "\n",
    "First, we'll define an empty dictionary, denoted by open and closed brackets, and store it within the variable `location`."
   ]
  },
  {
   "cell_type": "code",
   "execution_count": 2,
   "metadata": {},
   "outputs": [],
   "source": [
    "location = {}"
   ]
  },
  {
   "cell_type": "markdown",
   "metadata": {},
   "source": [
    "We'll now create entries for the location's information:"
   ]
  },
  {
   "cell_type": "code",
   "execution_count": 3,
   "metadata": {},
   "outputs": [],
   "source": [
    "location['temperature'] = 32.0\n",
    "location['dewpoint'] = 27.0\n",
    "location['wind'] = 4.0"
   ]
  },
  {
   "cell_type": "markdown",
   "metadata": {},
   "source": [
    "What the above code block does is create three **keys** within the dictionary, with each key mapped to a value."
   ]
  },
  {
   "cell_type": "code",
   "execution_count": 4,
   "metadata": {},
   "outputs": [
    {
     "data": {
      "text/plain": [
       "{'temperature': 32.0, 'dewpoint': 27.0, 'wind': 4.0}"
      ]
     },
     "execution_count": 4,
     "metadata": {},
     "output_type": "execute_result"
    }
   ],
   "source": [
    "location"
   ]
  },
  {
   "cell_type": "markdown",
   "metadata": {},
   "source": [
    "The above can also be achieved by directly creating the dictionary with the keys and values, using the following syntax:"
   ]
  },
  {
   "cell_type": "code",
   "execution_count": 5,
   "metadata": {},
   "outputs": [
    {
     "data": {
      "text/plain": [
       "{'temperature': 32.0, 'dewpoint': 27.0, 'wind': 4.0}"
      ]
     },
     "execution_count": 5,
     "metadata": {},
     "output_type": "execute_result"
    }
   ],
   "source": [
    "location = {\n",
    "    'temperature': 32.0,\n",
    "    'dewpoint': 27.0,\n",
    "    'wind': 4.0,\n",
    "}\n",
    "location"
   ]
  },
  {
   "cell_type": "markdown",
   "metadata": {},
   "source": [
    "In this particular example, all keys have the same type (str) and all values have the same type (float). Note that this doesn't necessarily have to be the case:"
   ]
  },
  {
   "cell_type": "code",
   "execution_count": 6,
   "metadata": {},
   "outputs": [
    {
     "data": {
      "text/plain": [
       "{'locations': ['new york', 'philadelphia', 'washington dc'],\n",
       " 'country': 'united states',\n",
       " 'average latitude': 40.0,\n",
       " 'cities': True}"
      ]
     },
     "execution_count": 6,
     "metadata": {},
     "output_type": "execute_result"
    }
   ],
   "source": [
    "random_dict = {\n",
    "    'locations': ['new york','philadelphia','washington dc'], #list\n",
    "    'country': 'united states', #string\n",
    "    'average latitude': 40.0, #float\n",
    "    'cities': True, #boolean\n",
    "}\n",
    "\n",
    "random_dict"
   ]
  },
  {
   "cell_type": "markdown",
   "metadata": {},
   "source": [
    "## Basic dictionary syntax"
   ]
  },
  {
   "cell_type": "markdown",
   "metadata": {},
   "source": [
    "Now that we have this dictionary, let's look at what we can do with it.\n",
    "\n",
    "First, say we're given a dictionary where we don't know its keys. We can simply retrieve a list of a dictionary's keys as follows:"
   ]
  },
  {
   "cell_type": "code",
   "execution_count": 7,
   "metadata": {},
   "outputs": [
    {
     "data": {
      "text/plain": [
       "dict_keys(['temperature', 'dewpoint', 'wind'])"
      ]
     },
     "execution_count": 7,
     "metadata": {},
     "output_type": "execute_result"
    }
   ],
   "source": [
    "location.keys()"
   ]
  },
  {
   "cell_type": "markdown",
   "metadata": {},
   "source": [
    "Notice that the return value isn't necessarily a list, so we'll have to convert it to a list using Python's built-in `list()` function:"
   ]
  },
  {
   "cell_type": "code",
   "execution_count": 8,
   "metadata": {},
   "outputs": [
    {
     "data": {
      "text/plain": [
       "['temperature', 'dewpoint', 'wind']"
      ]
     },
     "execution_count": 8,
     "metadata": {},
     "output_type": "execute_result"
    }
   ],
   "source": [
    "list(location.keys())"
   ]
  },
  {
   "cell_type": "markdown",
   "metadata": {},
   "source": [
    "Now let's say we want to look at the value associated with the dictionary's \"temperature\" key. We can access it as follows:"
   ]
  },
  {
   "cell_type": "code",
   "execution_count": 9,
   "metadata": {},
   "outputs": [
    {
     "data": {
      "text/plain": [
       "32.0"
      ]
     },
     "execution_count": 9,
     "metadata": {},
     "output_type": "execute_result"
    }
   ],
   "source": [
    "location['temperature']"
   ]
  },
  {
   "cell_type": "markdown",
   "metadata": {},
   "source": [
    "We can also retrieve each item within the dictionary simply by using its `.items()` method:"
   ]
  },
  {
   "cell_type": "code",
   "execution_count": 10,
   "metadata": {},
   "outputs": [
    {
     "data": {
      "text/plain": [
       "dict_items([('temperature', 32.0), ('dewpoint', 27.0), ('wind', 4.0)])"
      ]
     },
     "execution_count": 10,
     "metadata": {},
     "output_type": "execute_result"
    }
   ],
   "source": [
    "location.items()"
   ]
  },
  {
   "cell_type": "markdown",
   "metadata": {},
   "source": [
    "So if we want to access the first item in dictionary `location`, we'd look at the first element of the returned output after converting it to a list:"
   ]
  },
  {
   "cell_type": "code",
   "execution_count": 11,
   "metadata": {},
   "outputs": [
    {
     "name": "stdout",
     "output_type": "stream",
     "text": [
      "The first item is: ('temperature', 32.0)\n",
      "The second item is: ('dewpoint', 27.0)\n"
     ]
    }
   ],
   "source": [
    "items = list(location.items())\n",
    "print(f'The first item is: {items[0]}')\n",
    "print(f'The second item is: {items[1]}')"
   ]
  },
  {
   "cell_type": "markdown",
   "metadata": {},
   "source": [
    "As each item is a tuple, we can easily access its key and value as follows:"
   ]
  },
  {
   "cell_type": "code",
   "execution_count": 12,
   "metadata": {},
   "outputs": [
    {
     "name": "stdout",
     "output_type": "stream",
     "text": [
      "The key of the first item is: temperature\n",
      "The value of the first item is: 32.0\n"
     ]
    }
   ],
   "source": [
    "print(f'The key of the first item is: {items[0][0]}')\n",
    "print(f'The value of the first item is: {items[0][1]}')"
   ]
  },
  {
   "cell_type": "markdown",
   "metadata": {},
   "source": [
    "## Sorting Dictionaries\n",
    "\n",
    "Let's say we have a dictionary containing a collection of locations and their current temperatures:"
   ]
  },
  {
   "cell_type": "code",
   "execution_count": 13,
   "metadata": {},
   "outputs": [
    {
     "data": {
      "text/plain": [
       "{'new york': 32.0,\n",
       " 'philadelphia': 35.0,\n",
       " 'boston': 29.0,\n",
       " 'albany': 26.0,\n",
       " 'washington dc': 42.0,\n",
       " 'portland': 25.0,\n",
       " 'richmond': 52.0}"
      ]
     },
     "execution_count": 13,
     "metadata": {},
     "output_type": "execute_result"
    }
   ],
   "source": [
    "temperatures = {\n",
    "    'new york': 32.0,\n",
    "    'philadelphia': 35.0,\n",
    "    'boston': 29.0,\n",
    "    'albany': 26.0,\n",
    "    'washington dc': 42.0,\n",
    "    'portland': 25.0,\n",
    "    'richmond': 52.0,\n",
    "}\n",
    "\n",
    "temperatures"
   ]
  },
  {
   "cell_type": "markdown",
   "metadata": {},
   "source": [
    "Let's say we want to sort the dictionary by temperatures in ascending order, meaning from coldest to warmest.\n",
    "\n",
    "For this we can use Python's built-in `sorted()` function. This function takes in three arguments:\n",
    "\n",
    " - The dictionary's items, as retrieved by the previously mentioned `.items()` method of a dictionary\n",
    " - A key for sorting, which we use a lambda function to sort by the second element of an item (i.e., its value)\n",
    " - An optional reverse argument. By default `sorted` sorts in ascending order, so using `reverse=True` sorts in descending order"
   ]
  },
  {
   "cell_type": "code",
   "execution_count": 14,
   "metadata": {},
   "outputs": [
    {
     "data": {
      "text/plain": [
       "[('portland', 25.0),\n",
       " ('albany', 26.0),\n",
       " ('boston', 29.0),\n",
       " ('new york', 32.0),\n",
       " ('philadelphia', 35.0),\n",
       " ('washington dc', 42.0),\n",
       " ('richmond', 52.0)]"
      ]
     },
     "execution_count": 14,
     "metadata": {},
     "output_type": "execute_result"
    }
   ],
   "source": [
    "sorted_list = sorted(temperatures.items(), key=lambda item: item[1])\n",
    "sorted_list"
   ]
  },
  {
   "cell_type": "markdown",
   "metadata": {},
   "source": [
    "Notice how the output from the `sorted()` function is a list. If we want to convert this back to a dictionary, we simply use the built-in `dict()` function:"
   ]
  },
  {
   "cell_type": "code",
   "execution_count": 15,
   "metadata": {},
   "outputs": [
    {
     "data": {
      "text/plain": [
       "{'portland': 25.0,\n",
       " 'albany': 26.0,\n",
       " 'boston': 29.0,\n",
       " 'new york': 32.0,\n",
       " 'philadelphia': 35.0,\n",
       " 'washington dc': 42.0,\n",
       " 'richmond': 52.0}"
      ]
     },
     "execution_count": 15,
     "metadata": {},
     "output_type": "execute_result"
    }
   ],
   "source": [
    "sorted_dict = dict(sorted_list)\n",
    "sorted_dict"
   ]
  },
  {
   "cell_type": "markdown",
   "metadata": {},
   "source": [
    "Now we'll sort by temperature but in descending order, using the `reverse=True` argument:"
   ]
  },
  {
   "cell_type": "code",
   "execution_count": 16,
   "metadata": {},
   "outputs": [
    {
     "data": {
      "text/plain": [
       "{'richmond': 52.0,\n",
       " 'washington dc': 42.0,\n",
       " 'philadelphia': 35.0,\n",
       " 'new york': 32.0,\n",
       " 'boston': 29.0,\n",
       " 'albany': 26.0,\n",
       " 'portland': 25.0}"
      ]
     },
     "execution_count": 16,
     "metadata": {},
     "output_type": "execute_result"
    }
   ],
   "source": [
    "sorted_dict = dict(sorted(temperatures.items(), key=lambda item: item[1], reverse=True))\n",
    "sorted_dict"
   ]
  },
  {
   "cell_type": "markdown",
   "metadata": {},
   "source": [
    "Now say we want to sort the dictionary by **keys**, in alphabetical order.\n",
    "\n",
    "Instead of using `item[1]` for the key argument, meaning we're using the second element of an item or its **value**, we'll now use `item[0]` for the key argument, meaning we're using the first element of an item or its **key**."
   ]
  },
  {
   "cell_type": "code",
   "execution_count": 17,
   "metadata": {},
   "outputs": [
    {
     "data": {
      "text/plain": [
       "[('albany', 26.0),\n",
       " ('boston', 29.0),\n",
       " ('new york', 32.0),\n",
       " ('philadelphia', 35.0),\n",
       " ('portland', 25.0),\n",
       " ('richmond', 52.0),\n",
       " ('washington dc', 42.0)]"
      ]
     },
     "execution_count": 17,
     "metadata": {},
     "output_type": "execute_result"
    }
   ],
   "source": [
    "sorted_list = sorted(temperatures.items(), key=lambda item: item[0])\n",
    "sorted_list"
   ]
  }
 ],
 "metadata": {
  "kernelspec": {
   "display_name": "Python [conda env:test3]",
   "language": "python",
   "name": "conda-env-test3-py"
  },
  "language_info": {
   "codemirror_mode": {
    "name": "ipython",
    "version": 3
   },
   "file_extension": ".py",
   "mimetype": "text/x-python",
   "name": "python",
   "nbconvert_exporter": "python",
   "pygments_lexer": "ipython3",
   "version": "3.6.7"
  }
 },
 "nbformat": 4,
 "nbformat_minor": 2
}
