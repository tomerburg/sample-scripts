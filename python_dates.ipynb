{
 "cells": [
  {
   "cell_type": "markdown",
   "metadata": {},
   "source": [
    "# Date analysis in Python\n",
    "\n",
    "This script shows several ways to analyze dates in Python.\n",
    "\n",
    "- Created by: Tomer Burg\n",
    "- Last modified: 20 March 2022"
   ]
  },
  {
   "cell_type": "markdown",
   "metadata": {},
   "source": [
    "### Using the datetime package\n",
    "\n",
    "Python's built-in datetime package is very convenient for creating and analyzing dates. We'll import it using the alias \"dt\":"
   ]
  },
  {
   "cell_type": "code",
   "execution_count": 1,
   "metadata": {},
   "outputs": [],
   "source": [
    "import datetime as dt"
   ]
  },
  {
   "cell_type": "markdown",
   "metadata": {},
   "source": [
    "### Creating dates\n",
    "\n",
    "There are many ways to create dates using datetime. Let's start with the most simple way, by getting the current date:"
   ]
  },
  {
   "cell_type": "code",
   "execution_count": 2,
   "metadata": {},
   "outputs": [
    {
     "name": "stdout",
     "output_type": "stream",
     "text": [
      "2022-03-20 15:14:57.653776\n"
     ]
    }
   ],
   "source": [
    "current_date = dt.datetime.now()\n",
    "print(current_date)"
   ]
  },
  {
   "cell_type": "markdown",
   "metadata": {},
   "source": [
    "The output above is a \"datetime object\", which for the user's convenience is printed as a string so it can be easily viewed. We'll look at what we can do with these datetime objects later in this script.\n",
    "\n",
    "We can also create our own dates using the default `dt.datetime()` function, with input arguments in descending order from year, month, date, hour, minute, second, etc."
   ]
  },
  {
   "cell_type": "code",
   "execution_count": 3,
   "metadata": {},
   "outputs": [
    {
     "name": "stdout",
     "output_type": "stream",
     "text": [
      "2021-02-23 11:30:00\n"
     ]
    }
   ],
   "source": [
    "#February 23, 2021 at 11:30am\n",
    "custom_date = dt.datetime(2021,2,23,11,30)\n",
    "print(custom_date)"
   ]
  },
  {
   "cell_type": "markdown",
   "metadata": {},
   "source": [
    "We can also convert strings to dates using the `dt.datetime.strptime()` function. This takes two arguments:\n",
    "\n",
    "- A string that we want to convert to a date\n",
    "- A string representing format code corresponding to the string that we want to convert to a date. For a full comprehensive list, refer to: https://docs.python.org/3/library/datetime.html#strftime-and-strptime-format-codes"
   ]
  },
  {
   "cell_type": "code",
   "execution_count": 4,
   "metadata": {},
   "outputs": [
    {
     "name": "stdout",
     "output_type": "stream",
     "text": [
      "1. The below date is 23 February 2021:\n",
      "2021-02-23 00:00:00\n",
      "2. The below date is 23 February 2021:\n",
      "2021-02-23 00:00:00\n",
      "3. The below date is 23 February 2021:\n",
      "2021-02-23 00:00:00\n",
      "4. The below date is 23 February 2021 at 11:30:\n",
      "2021-02-23 11:30:00\n",
      "5. The below date is 23 February 2021 at 11:30:\n",
      "2021-02-23 11:30:00\n",
      "6. The below date is 23 February 2021 at 11:30:\n",
      "2021-02-23 11:30:00\n"
     ]
    }
   ],
   "source": [
    "custom_date = dt.datetime.strptime('2021-02-23','%Y-%m-%d')\n",
    "print(\"1. The below date is 23 February 2021:\")\n",
    "print(custom_date)\n",
    "\n",
    "custom_date = dt.datetime.strptime('2021/02/23','%Y/%m/%d')\n",
    "print(\"2. The below date is 23 February 2021:\")\n",
    "print(custom_date)\n",
    "\n",
    "custom_date = dt.datetime.strptime('20210223','%Y%m%d')\n",
    "print(\"3. The below date is 23 February 2021:\")\n",
    "print(custom_date)\n",
    "\n",
    "custom_date = dt.datetime.strptime('20210223:1130','%Y%m%d:%H%M')\n",
    "print(\"4. The below date is 23 February 2021 at 11:30:\")\n",
    "print(custom_date)\n",
    "\n",
    "custom_date = dt.datetime.strptime('23 Feb 2021 at 11:30','%d %b %Y at %H:%M')\n",
    "print(\"5. The below date is 23 February 2021 at 11:30:\")\n",
    "print(custom_date)\n",
    "\n",
    "custom_date = dt.datetime.strptime('23 February 2021 at 11:30','%d %B %Y at %H:%M')\n",
    "print(\"6. The below date is 23 February 2021 at 11:30:\")\n",
    "print(custom_date)"
   ]
  },
  {
   "cell_type": "markdown",
   "metadata": {},
   "source": [
    "### Adding and subtracting dates\n",
    "\n",
    "Let's say we want to increment our date forward or backward. We can use datetime's `dt.timedelta()` function to do this."
   ]
  },
  {
   "cell_type": "code",
   "execution_count": 5,
   "metadata": {},
   "outputs": [
    {
     "name": "stdout",
     "output_type": "stream",
     "text": [
      "Our default date is 23 February 2021:\n",
      "2021-02-23 00:00:00\n",
      "We just added 12 hours to our date:\n",
      "2021-02-23 12:00:00\n",
      "We just added 5 days to our date:\n",
      "2021-02-28 12:00:00\n",
      "We just subtracted 6 hours from our date:\n",
      "2021-02-28 06:00:00\n"
     ]
    }
   ],
   "source": [
    "custom_date = dt.datetime(2021,2,23,0)\n",
    "print(\"Our default date is 23 February 2021:\")\n",
    "print(custom_date)\n",
    "\n",
    "custom_date = custom_date + dt.timedelta(hours=12)\n",
    "print(\"We just added 12 hours to our date:\")\n",
    "print(custom_date)\n",
    "\n",
    "custom_date = custom_date + dt.timedelta(days=5)\n",
    "print(\"We just added 5 days to our date:\")\n",
    "print(custom_date)\n",
    "\n",
    "custom_date = custom_date - dt.timedelta(hours=6)\n",
    "print(\"We just subtracted 6 hours from our date:\")\n",
    "print(custom_date)"
   ]
  },
  {
   "cell_type": "markdown",
   "metadata": {},
   "source": [
    "### Difference between two dates\n",
    "\n",
    "Let's say we want to compare how much time passed between two dates. We can simply take a difference between the dates:"
   ]
  },
  {
   "cell_type": "code",
   "execution_count": 6,
   "metadata": {},
   "outputs": [
    {
     "name": "stdout",
     "output_type": "stream",
     "text": [
      "3 days, 6:00:00\n"
     ]
    }
   ],
   "source": [
    "date_1 = dt.datetime(2021,2,23,12)\n",
    "date_2 = dt.datetime(2021,2,20,6)\n",
    "\n",
    "print(date_1 - date_2)"
   ]
  },
  {
   "cell_type": "markdown",
   "metadata": {},
   "source": [
    "Calculating how many hours passed between two dates requires a little more math, but it's doable:"
   ]
  },
  {
   "cell_type": "code",
   "execution_count": 7,
   "metadata": {},
   "outputs": [
    {
     "name": "stdout",
     "output_type": "stream",
     "text": [
      "78.0\n"
     ]
    }
   ],
   "source": [
    "date_1 = dt.datetime(2021,2,23,12)\n",
    "date_2 = dt.datetime(2021,2,20,6)\n",
    "\n",
    "date_difference = date_1 - date_2\n",
    "\n",
    "#Convert to total seconds\n",
    "date_difference = date_difference.total_seconds()\n",
    "\n",
    "#Convert to hours (3600 seconds in an hour)\n",
    "date_difference = date_difference / 3600\n",
    "\n",
    "print(date_difference)"
   ]
  },
  {
   "cell_type": "markdown",
   "metadata": {},
   "source": [
    "### Converting dates to strings\n",
    "\n",
    "Now that we have our datetime objects, let's say we want to convert them to strings for various purposes. For this we'll use datetime's `dt.datetime.strftime()` function.\n",
    "\n",
    "This function takes two arguments: the datetime object, and the format code corresponding to the output string we want."
   ]
  },
  {
   "cell_type": "code",
   "execution_count": 8,
   "metadata": {},
   "outputs": [
    {
     "name": "stdout",
     "output_type": "stream",
     "text": [
      "Our datetime object is:\n",
      "2021-02-23 11:30:00\n",
      "Output format example 1:\n",
      "2021-02-23\n",
      "Output format example 2:\n",
      "2021/02/23\n",
      "Output format example 3:\n",
      "2021/02/23 11:30\n",
      "Output format example 4:\n",
      "11:30 23 Feb 2021\n",
      "Output format example 5:\n",
      "11:30 AM 23 Feb 2021\n"
     ]
    }
   ],
   "source": [
    "custom_date = dt.datetime(2021,2,23,11,30)\n",
    "print(\"Our datetime object is:\")\n",
    "print(custom_date)\n",
    "\n",
    "string_date = dt.datetime.strftime(custom_date,'%Y-%m-%d')\n",
    "print(\"Output format example 1:\")\n",
    "print(string_date)\n",
    "\n",
    "string_date = dt.datetime.strftime(custom_date,'%Y/%m/%d')\n",
    "print(\"Output format example 2:\")\n",
    "print(string_date)\n",
    "\n",
    "string_date = dt.datetime.strftime(custom_date,'%Y/%m/%d %H:%M')\n",
    "print(\"Output format example 3:\")\n",
    "print(string_date)\n",
    "\n",
    "string_date = dt.datetime.strftime(custom_date,'%H:%M %d %b %Y')\n",
    "print(\"Output format example 4:\")\n",
    "print(string_date)\n",
    "\n",
    "string_date = dt.datetime.strftime(custom_date,'%H:%M %p %d %b %Y')\n",
    "print(\"Output format example 5:\")\n",
    "print(string_date)"
   ]
  },
  {
   "cell_type": "markdown",
   "metadata": {},
   "source": [
    "It should be noted that datetime objects have methods attached to them as well, such as `strftime`, which can be called from the datetime object itself as well."
   ]
  },
  {
   "cell_type": "code",
   "execution_count": 9,
   "metadata": {},
   "outputs": [
    {
     "name": "stdout",
     "output_type": "stream",
     "text": [
      "Output format example 5a:\n",
      "11:30 AM 23 Feb 2021\n",
      "Output format example 5b:\n",
      "11:30 AM 23 Feb 2021\n",
      "Notice the two above are the same!\n"
     ]
    }
   ],
   "source": [
    "string_date = dt.datetime.strftime(custom_date,'%H:%M %p %d %b %Y')\n",
    "print(\"Output format example 5a:\")\n",
    "print(string_date)\n",
    "\n",
    "string_date = custom_date.strftime('%H:%M %p %d %b %Y')\n",
    "print(\"Output format example 5b:\")\n",
    "print(string_date)\n",
    "\n",
    "print(\"Notice the two above are the same!\")"
   ]
  },
  {
   "cell_type": "code",
   "execution_count": null,
   "metadata": {},
   "outputs": [],
   "source": []
  }
 ],
 "metadata": {
  "kernelspec": {
   "display_name": "Python [conda env:test3]",
   "language": "python",
   "name": "conda-env-test3-py"
  },
  "language_info": {
   "codemirror_mode": {
    "name": "ipython",
    "version": 3
   },
   "file_extension": ".py",
   "mimetype": "text/x-python",
   "name": "python",
   "nbconvert_exporter": "python",
   "pygments_lexer": "ipython3",
   "version": "3.6.7"
  }
 },
 "nbformat": 4,
 "nbformat_minor": 2
}
