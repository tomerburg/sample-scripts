{
 "cells": [
  {
   "cell_type": "markdown",
   "metadata": {},
   "source": [
    "# Python introduction\n",
    "\n",
    "Do you have very little experience with using Python and want to get a place to start? This is the sample script for you!\n",
    "\n",
    "- Created by: Tomer Burg\n",
    "- Last updated: 20 March 2022"
   ]
  },
  {
   "cell_type": "markdown",
   "metadata": {},
   "source": [
    "### Should I use Python?\n",
    "\n",
    "There are many varieties of programming languages out there! Which language you should use depends on what purposes you'll need to use it for.\n",
    "\n",
    "Python is a high-level programming language, in contrast to lower level programming languages such as C or assembly languages. Python is generally considered easy to read and write in, and unlike languages such as C and FORTRAN doesn't require you to compile your code before running it; you can simply write your code then run it straight away.\n",
    "\n",
    "Limitations with Python include its dependence on external packages for functionalities like math, statistics, plotting, etc. that are routinely updated. Maintaining a Python environment is important for efficient use; newer package updates may be incompatible with your current environment, which may require occasional significant overhaul of your environment to stay up-to-date on the latest packages.\n",
    "\n",
    "Additionally, the easy nature of programming in Python comes at the expense of computational speed; lower-level languages such as C and FORTRAN are substantially faster in executing computationally intensive code, though some Python packages such as Numpy can speed up computations compared to pure Python, as will be shown later."
   ]
  },
  {
   "cell_type": "markdown",
   "metadata": {},
   "source": [
    "### Let's start with the basics of a Python script.\n",
    "\n",
    "Let's write a very simple Python script that performs simple math and prints it to the user. We'll be multiplying 6 by 3, then printing the output."
   ]
  },
  {
   "cell_type": "code",
   "execution_count": 1,
   "metadata": {},
   "outputs": [
    {
     "name": "stdout",
     "output_type": "stream",
     "text": [
      "The result of 6 * 3 is:\n",
      "18\n"
     ]
    }
   ],
   "source": [
    "# Comments are written using the # symbol. Python ignores any text in the line that comes after a # symbol.\n",
    "\n",
    "# Let's print what 6 * 3 is, using Python's default \"print()\" function.\n",
    "print(\"The result of 6 * 3 is:\")\n",
    "print(6 * 3)"
   ]
  },
  {
   "cell_type": "markdown",
   "metadata": {},
   "source": [
    "### Let's add variables into the mix.\n",
    "\n",
    "Variables are very convenient in Python. If you have a long block of code where for example you have multiple references to a number 18, but want to change it to 24. Instead of going through every instance of 18 and changing it to 24, you can simply define a variable and assign it the value 24, and reference that variable subsequently in the script. So now if you want to change 24 to 30 for example, you only change it once, where you assign the value of that variable.\n",
    "\n",
    "It should be noted that Python variables are independent of types, meaning one doesn't need to assign a variable a specific type, nor is there a specific way to first declare a variable. For example, some languages require you to state a variable is an \"int\" for integer or \"str\" for string when declaring it.\n",
    "\n",
    "Let's now rewrite the above but using variables:"
   ]
  },
  {
   "cell_type": "code",
   "execution_count": 2,
   "metadata": {},
   "outputs": [
    {
     "name": "stdout",
     "output_type": "stream",
     "text": [
      "The result of 6 * 3 is:\n",
      "18\n"
     ]
    }
   ],
   "source": [
    "# Let's declare a variable called \"first_number\" and assign the integer 6 to it:\n",
    "first_number = 6\n",
    "\n",
    "# Now we'll declare a second variable called \"second_number\" and assign the integer 3 to it.\n",
    "second_number = 3\n",
    "\n",
    "# Let's multiply the two numbers, and store the result in a variable called \"result\":\n",
    "result = first_number * second_number\n",
    "\n",
    "# We now want to print the result to the user, using Python's default \"print()\" function.\n",
    "print(\"The result of 6 * 3 is:\")\n",
    "print(result)"
   ]
  },
  {
   "cell_type": "markdown",
   "metadata": {},
   "source": [
    "### Let's add external packages into the mix!\n",
    "\n",
    "The previous code snippet is written in \"pure python\", meaning no external packages were used in the code. However, packages add a lot of value, and in some cases efficiency, and are indispensable to Python scripts.\n",
    "\n",
    "The \"numpy\" package is often already installed in Python environments, and can be imported simply using `import numpy`, which allows us to use all of numpy's functionality in our code.\n",
    "\n",
    "However, it would be painful to constantly write `numpy` every time we want to reference it. Instead, we can use an **alias** to import numpy under a different name that we'll then reference later on. For numpy, this alias is commonly \"np\", so that we write our import statement as `import numpy as np`.\n",
    "\n",
    "Now let's use numpy's multiply function to rewrite the above code:"
   ]
  },
  {
   "cell_type": "code",
   "execution_count": 3,
   "metadata": {},
   "outputs": [
    {
     "name": "stdout",
     "output_type": "stream",
     "text": [
      "The result of 6 * 3 is:\n",
      "18\n"
     ]
    }
   ],
   "source": [
    "# Import numpy using the alias \"np\", which will be used to access numpy's functionality\n",
    "import numpy as np\n",
    "\n",
    "# Let's declare a variable called \"first_number\" and assign the integer 6 to it:\n",
    "first_number = 6\n",
    "\n",
    "# Now we'll declare a second variable called \"second_number\" and assign the integer 3 to it.\n",
    "second_number = 3\n",
    "\n",
    "# Let's multiply the two numbers with numpy's \"multiply\" function, and store the result in a variable called \"result\".\n",
    "# Functions are accessed by a dot after the package name, so numpy's \"multiply\" function is accessed with \"np.multiply()\".\n",
    "# The parentheses enclose a comma separated list of one or more arguments. Numpy's multiply function requires at least \n",
    "# two arguments, the first and second numbers to be multiplied, and returns the result of the multiplication which is stored\n",
    "# in the \"result\" variable.\n",
    "result = np.multiply(first_number,second_number)\n",
    "\n",
    "# We now want to print the result to the user, using Python's default \"print()\" function.\n",
    "print(\"The result of 6 * 3 is:\")\n",
    "print(result)"
   ]
  },
  {
   "cell_type": "markdown",
   "metadata": {},
   "source": [
    "### You may be wondering... what are \"functions\"?\n",
    "\n",
    "We've already referenced **functions** a few times above, so you may naturally be wondering what a function is. Simply stated, a function is a block of code that is only executed when it is called by the user. A function can accept one or more parameters, and can return one or more variables.\n",
    "\n",
    "Functions are convenient for many reasons. Say we have a complicated block of code that we want to run multiple times, tweaking a single value each time. Instead of constantly copying and pasting the code, or constantly modifying the code, we can write a function and pass it a different value each time.\n",
    "\n",
    "Let's rewrite the above code using a function:"
   ]
  },
  {
   "cell_type": "code",
   "execution_count": 4,
   "metadata": {},
   "outputs": [
    {
     "name": "stdout",
     "output_type": "stream",
     "text": [
      "The result of 6 * 3 is:\n",
      "18\n"
     ]
    }
   ],
   "source": [
    "# A function declaration starts with the word \"def\", letting Python know we're about to define a function.\n",
    "# This is then followed by the function name, which in this case we call \"multiply\".\n",
    "# This is then followed by an open and closed parentheses, enclosing a comma-separated of one or more variables that \n",
    "# will be referenced within the function. This is followed by a colon at the end, indicating where the function begins.\n",
    "def multiply(first_number, second_number):\n",
    "    \n",
    "    # Python functions are indented, which tells you when you're within a function. The convention is for 4 spaces.\n",
    "    \n",
    "    # Let's multiply the first and second numbers:\n",
    "    result = first_number * second_number\n",
    "    \n",
    "    # Now we'll print the result to the user.\n",
    "    print(\"The result of 6 * 3 is:\")\n",
    "    print(result)\n",
    "\n",
    "# This block of code is un-indented, meaning we're now outside of the function.\n",
    "\n",
    "# Let's now call the function. The parameters within the parentheses correspond to the arguments within the function \n",
    "# declaration line, such that \"first_number\" is set to 6 and \"second_number\" is set to 3.\n",
    "multiply(6,3)"
   ]
  },
  {
   "cell_type": "markdown",
   "metadata": {},
   "source": [
    "### Return statement\n",
    "\n",
    "It should be noted that code within functions is exclusive only to that function, unless it's returned to the user with a `return` statement, which can return one or more variables, and allow the user to have access to the variable instead of containing it only within the function.\n",
    "\n",
    "Let's now rewrite the above code such that the return the result to the user:"
   ]
  },
  {
   "cell_type": "code",
   "execution_count": 5,
   "metadata": {},
   "outputs": [
    {
     "name": "stdout",
     "output_type": "stream",
     "text": [
      "The result of 6 * 3 is:\n",
      "18\n"
     ]
    }
   ],
   "source": [
    "# A function declaration starts with the word \"def\", letting Python know we're about to define a function.\n",
    "# This is then followed by the function name, which in this case we call \"multiply\".\n",
    "# This is then followed by an open and closed parentheses, enclosing a comma-separated of one or more variables that \n",
    "# will be referenced within the function. This is followed by a colon at the end, indicating where the function begins.\n",
    "def multiply(first_number, second_number):\n",
    "    \n",
    "    # Python functions are indented, which tells you when you're within a function. The convention is for 4 spaces.\n",
    "    \n",
    "    # Let's multiply the first and second numbers:\n",
    "    result = first_number * second_number\n",
    "    \n",
    "    # Now we'll return the result to the user.\n",
    "    return result\n",
    "\n",
    "# This block of code is un-indented, meaning we're now outside of the function.\n",
    "\n",
    "# Let's now call the function. The parameters within the parentheses correspond to the arguments within the function \n",
    "# declaration line, such that \"first_number\" is set to 6 and \"second_number\" is set to 3.\n",
    "# The result from the function is returned, and will be stored in a variable called \"output\".\n",
    "output = multiply(6,3)\n",
    "\n",
    "# Let's now print the output:\n",
    "print(\"The result of 6 * 3 is:\")\n",
    "print(output)"
   ]
  },
  {
   "cell_type": "markdown",
   "metadata": {},
   "source": [
    "### Generalizing the above function\n",
    "\n",
    "With the above code, we can now easily multiply any numbers we want. Let's now generalize the function by using **f-strings** in the print statement, which allows us to plug variables into the string we're printing, and test it out for different multiplications:"
   ]
  },
  {
   "cell_type": "code",
   "execution_count": 6,
   "metadata": {},
   "outputs": [
    {
     "name": "stdout",
     "output_type": "stream",
     "text": [
      "The result of 6 * 3 is:\n",
      "18\n",
      "The result of 4 * 7 is:\n",
      "28\n",
      "The result of 10 * 5 is:\n",
      "50\n",
      "The result of 2 * 8 is:\n",
      "16\n"
     ]
    }
   ],
   "source": [
    "# A function declaration starts with the word \"def\", letting Python know we're about to define a function.\n",
    "# This is then followed by the function name, which in this case we call \"multiply\".\n",
    "# This is then followed by an open and closed parentheses, enclosing a comma-separated of one or more variables that \n",
    "# will be referenced within the function. This is followed by a colon at the end, indicating where the function begins.\n",
    "def multiply(first_number, second_number):\n",
    "    \n",
    "    # Python functions are indented, which tells you when you're within a function. The convention is for 4 spaces.\n",
    "    \n",
    "    # Let's multiply the first and second numbers:\n",
    "    result = first_number * second_number\n",
    "    \n",
    "    # We'll print the output here for the user to know what calculation was just performed.\n",
    "    # f-strings begin with the letter \"f\" before the start and end quotes, and allow the user to plug in variables\n",
    "    # to be printed using brackets {}.\n",
    "    print(f\"The result of {first_number} * {second_number} is:\")\n",
    "    print(result)\n",
    "    \n",
    "    # Now we'll return the result to the user.\n",
    "    return result\n",
    "\n",
    "# This block of code is un-indented, meaning we're now outside of the function.\n",
    "\n",
    "# Let's multiply 6 and 3:\n",
    "output = multiply(6,3)\n",
    "\n",
    "# Let's multiply a couple of different numbers as well.\n",
    "output = multiply(4,7)\n",
    "output = multiply(10,5)\n",
    "output = multiply(2,8)"
   ]
  },
  {
   "cell_type": "markdown",
   "metadata": {},
   "source": [
    "Congratulations! You now performed simple math in Python, wrote your own multiplication function, and learned a little about how functions work.\n",
    "\n",
    "Check out the other scripts in this directory for more detailed examples of data analysis!"
   ]
  },
  {
   "cell_type": "code",
   "execution_count": null,
   "metadata": {},
   "outputs": [],
   "source": []
  }
 ],
 "metadata": {
  "kernelspec": {
   "display_name": "Python [conda env:test3]",
   "language": "python",
   "name": "conda-env-test3-py"
  },
  "language_info": {
   "codemirror_mode": {
    "name": "ipython",
    "version": 3
   },
   "file_extension": ".py",
   "mimetype": "text/x-python",
   "name": "python",
   "nbconvert_exporter": "python",
   "pygments_lexer": "ipython3",
   "version": "3.6.7"
  }
 },
 "nbformat": 4,
 "nbformat_minor": 2
}
