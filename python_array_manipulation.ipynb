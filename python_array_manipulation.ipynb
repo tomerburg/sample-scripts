{
 "cells": [
  {
   "cell_type": "markdown",
   "metadata": {},
   "source": [
    "# Python array manipulation\n",
    "\n",
    "This script shows several ways to manipulate Python lists and Numpy arrays to make your code more efficient.\n",
    "\n",
    "- Created by: Tomer Burg\n",
    "- Last updated: 22 March 2022"
   ]
  },
  {
   "cell_type": "markdown",
   "metadata": {},
   "source": [
    "### Let's start with the basics...\n",
    "\n",
    "...by importing our necessary packages:"
   ]
  },
  {
   "cell_type": "code",
   "execution_count": 1,
   "metadata": {},
   "outputs": [],
   "source": [
    "import numpy as np\n",
    "import datetime as dt"
   ]
  },
  {
   "cell_type": "markdown",
   "metadata": {},
   "source": [
    "### List comprehension\n",
    "\n",
    "Let's say we want to create a list and populate it with the numbers 0 through 49. One possible way is to use a loop and iterate from 0 through 49, appending it to the list each time."
   ]
  },
  {
   "cell_type": "code",
   "execution_count": 2,
   "metadata": {},
   "outputs": [
    {
     "name": "stdout",
     "output_type": "stream",
     "text": [
      "[0, 1, 2, 3, 4, 5, 6, 7, 8, 9, 10, 11, 12, 13, 14, 15, 16, 17, 18, 19, 20, 21, 22, 23, 24, 25, 26, 27, 28, 29, 30, 31, 32, 33, 34, 35, 36, 37, 38, 39, 40, 41, 42, 43, 44, 45, 46, 47, 48, 49]\n"
     ]
    }
   ],
   "source": [
    "my_list = []\n",
    "\n",
    "for i in range(50):\n",
    "    my_list.append(i)\n",
    "\n",
    "print(my_list)"
   ]
  },
  {
   "cell_type": "markdown",
   "metadata": {},
   "source": [
    "Did you know there's a way to accomplish the above code in a single line? This is what we can do with list comprehension!"
   ]
  },
  {
   "cell_type": "code",
   "execution_count": 3,
   "metadata": {},
   "outputs": [
    {
     "name": "stdout",
     "output_type": "stream",
     "text": [
      "[0, 1, 2, 3, 4, 5, 6, 7, 8, 9, 10, 11, 12, 13, 14, 15, 16, 17, 18, 19, 20, 21, 22, 23, 24, 25, 26, 27, 28, 29, 30, 31, 32, 33, 34, 35, 36, 37, 38, 39, 40, 41, 42, 43, 44, 45, 46, 47, 48, 49]\n"
     ]
    }
   ],
   "source": [
    "my_list = [i for i in range(50)]\n",
    "print(my_list)"
   ]
  },
  {
   "cell_type": "markdown",
   "metadata": {},
   "source": [
    "Let's move onto more complicated examples. Let's iterate over all numbers from 0 to 99, and we retain them only if they're even number and if they're in another list we'll compare against. Additionally, if we retain them, we multiply them by 2."
   ]
  },
  {
   "cell_type": "code",
   "execution_count": 4,
   "metadata": {},
   "outputs": [
    {
     "name": "stdout",
     "output_type": "stream",
     "text": [
      "[24, 36, 40, 44, 48, 52, 72, 92, 136, 160, 168, 176]\n"
     ]
    }
   ],
   "source": [
    "compare_list = [12,15,18,19,20,21,22,23,24,25,26,31,36,45,46,57,68,73,80,81,83,84,87,88,93]\n",
    "\n",
    "my_list = []\n",
    "for i in range(100):\n",
    "    if i % 2 == 0 and i in compare_list:\n",
    "        my_list.append(i*2)\n",
    "\n",
    "print(my_list)"
   ]
  },
  {
   "cell_type": "markdown",
   "metadata": {},
   "source": [
    "Now we'll use list comprehension to write the above in a single line:"
   ]
  },
  {
   "cell_type": "code",
   "execution_count": 5,
   "metadata": {},
   "outputs": [
    {
     "name": "stdout",
     "output_type": "stream",
     "text": [
      "[24, 36, 40, 44, 48, 52, 72, 92, 136, 160, 168, 176]\n"
     ]
    }
   ],
   "source": [
    "compare_list = [12,15,18,19,20,21,22,23,24,25,26,31,36,45,46,57,68,73,80,81,83,84,87,88,93]\n",
    "\n",
    "my_list = [i*2 for i in range(100) if i % 2 == 0 and i in compare_list]\n",
    "\n",
    "print(my_list)"
   ]
  },
  {
   "cell_type": "markdown",
   "metadata": {},
   "source": [
    "### Numpy array vectorized operations\n",
    "\n",
    "Now that we've reviewed basic Python lists, we'll review more complex operations we can optimize with Numpy.\n",
    "\n",
    "Let's declare a 2D numpy array of (1000x1000) dimension, all set to a value of one using `np.ones()`:"
   ]
  },
  {
   "cell_type": "code",
   "execution_count": 6,
   "metadata": {},
   "outputs": [],
   "source": [
    "array = np.ones((1000,1000))"
   ]
  },
  {
   "cell_type": "markdown",
   "metadata": {},
   "source": [
    "Just to illustrate how big this array is, let's count how many total entries it has - a total of 1 million entries!"
   ]
  },
  {
   "cell_type": "code",
   "execution_count": 7,
   "metadata": {},
   "outputs": [
    {
     "name": "stdout",
     "output_type": "stream",
     "text": [
      "1000000\n"
     ]
    }
   ],
   "source": [
    "print(len(array.flatten()))"
   ]
  },
  {
   "cell_type": "markdown",
   "metadata": {},
   "source": [
    "Now let's create an equally sized array, but with random numbers from 0 to 1:"
   ]
  },
  {
   "cell_type": "code",
   "execution_count": 8,
   "metadata": {},
   "outputs": [],
   "source": [
    "random_array = np.random.rand(1000,1000)"
   ]
  },
  {
   "cell_type": "markdown",
   "metadata": {},
   "source": [
    "You may be wondering - what is the sum of this array?\n",
    "\n",
    "There's two ways we can approach this. The first is to iterate over every row and column of this array, resulting in a nested for loop, and sum up every element.\n",
    "\n",
    "We'll also use `datetime` to time how long this operation takes."
   ]
  },
  {
   "cell_type": "code",
   "execution_count": 9,
   "metadata": {},
   "outputs": [
    {
     "name": "stdout",
     "output_type": "stream",
     "text": [
      "Array sum: 499858.36\n",
      "Total seconds: 0.600386\n"
     ]
    }
   ],
   "source": [
    "start_time = dt.datetime.now()\n",
    "\n",
    "array_sum = 0\n",
    "x,y = random_array.shape\n",
    "for i in range(x):\n",
    "    for j in range(y):\n",
    "        array_sum += random_array[i][j]\n",
    "print(f\"Array sum: {np.round(array_sum,2)}\")\n",
    "            \n",
    "end_time = dt.datetime.now()\n",
    "print(f\"Total seconds: {(end_time - start_time).total_seconds()}\")"
   ]
  },
  {
   "cell_type": "markdown",
   "metadata": {},
   "source": [
    "Let's now do the same with Numpy's `np.sum()` function, and compare how long it takes:"
   ]
  },
  {
   "cell_type": "code",
   "execution_count": 10,
   "metadata": {},
   "outputs": [
    {
     "name": "stdout",
     "output_type": "stream",
     "text": [
      "Array sum: 499858.36\n",
      "Total seconds: 0.002229\n"
     ]
    }
   ],
   "source": [
    "start_time = dt.datetime.now()\n",
    "\n",
    "array_sum = np.sum(random_array)\n",
    "print(f\"Array sum: {np.round(array_sum,2)}\")\n",
    "            \n",
    "end_time = dt.datetime.now()\n",
    "print(f\"Total seconds: {(end_time - start_time).total_seconds()}\")"
   ]
  },
  {
   "cell_type": "markdown",
   "metadata": {},
   "source": [
    "Notice how the Numpy version was **much** faster than the loop we used before! Why is this the case?\n",
    "\n",
    "Numpy functions are vectorized, meaning the code is executed \"under the hood\" in C code, which is more efficient in computationally expensive calculations than Python. Consider how Numpy arrays require each array to only have a single data type (e.g., int, float, etc.), whereas variables in pure Python can be of any type (e.g., you can create a variable \"var\" and assign an integer to it (`var = 5`), then redefine it as a boolean (`var = True`), without it crashing the code).\n",
    "\n",
    "This ambiguity about the data type within a pure Python loop and the lack of underlying C optimization significantly slow down pure Python for loops, which Numpy vectorization significantly optimizes."
   ]
  },
  {
   "cell_type": "markdown",
   "metadata": {},
   "source": [
    "## Example 1\n",
    "\n",
    "Let's do an example where we iterate over every gridpoint, and where `random_array` is greater than 0.5 we take that value, assign it to `array`, and double it.\n",
    "\n",
    "We'll also use `datetime` to time how long this operation takes."
   ]
  },
  {
   "cell_type": "code",
   "execution_count": 11,
   "metadata": {},
   "outputs": [
    {
     "name": "stdout",
     "output_type": "stream",
     "text": [
      "Total seconds: 1.092894\n"
     ]
    }
   ],
   "source": [
    "start_time = dt.datetime.now()\n",
    "\n",
    "x,y = array.shape\n",
    "for i in range(x):\n",
    "    for j in range(y):\n",
    "        if random_array[i][j] > 0.5:\n",
    "            array[i][j] = random_array[i][j] * 2\n",
    "            \n",
    "end_time = dt.datetime.now()\n",
    "print(f\"Total seconds: {(end_time - start_time).total_seconds()}\")"
   ]
  },
  {
   "cell_type": "markdown",
   "metadata": {},
   "source": [
    "Did you know you can do the above in just one line of code? Here's an example of how!"
   ]
  },
  {
   "cell_type": "code",
   "execution_count": 12,
   "metadata": {},
   "outputs": [
    {
     "name": "stdout",
     "output_type": "stream",
     "text": [
      "Total seconds: 0.019946\n"
     ]
    }
   ],
   "source": [
    "start_time = dt.datetime.now()\n",
    "\n",
    "array[random_array > 0.5] = random_array[random_array > 0.5] * 2\n",
    "            \n",
    "end_time = dt.datetime.now()\n",
    "print(f\"Total seconds: {(end_time - start_time).total_seconds()}\")"
   ]
  },
  {
   "cell_type": "markdown",
   "metadata": {},
   "source": [
    "Notice how the above was much faster than the original loop where we iterated over every single element! We can perform operations within brackets; as the two arrays have equal dimensions, this performs the operation over every element within the arrays.\n",
    "\n",
    "Essentially, the block of code `array[random_array > 0.5]` says that the statement after the equal sign will only be performed for elements within `array` where the equally positioned elements within `random_array` are greater than 0.5.\n",
    "\n",
    "The following block of code `= random_array[random_array > 0.5] * 2` says that we take elements from `random_array` which are greater than 0.5, multiply then by 2, then assign them to the equally positioned elements within `array`.\n",
    "\n",
    "Just for a sanity check, let's make sure these two arrays are the same by taking their difference:"
   ]
  },
  {
   "cell_type": "code",
   "execution_count": 13,
   "metadata": {},
   "outputs": [
    {
     "name": "stdout",
     "output_type": "stream",
     "text": [
      "0.0\n",
      "0.0\n"
     ]
    }
   ],
   "source": [
    "array_slow = np.zeros((1000,1000))\n",
    "array_fast = np.zeros((1000,1000))\n",
    "\n",
    "#Using our slow method:\n",
    "x,y = array.shape\n",
    "for i in range(x):\n",
    "    for j in range(y):\n",
    "        if random_array[i][j] > 0.5:\n",
    "            array_slow[i][j] = random_array[i][j] * 2\n",
    "\n",
    "#Using our fast method:\n",
    "array_fast[random_array > 0.5] = random_array[random_array > 0.5] * 2\n",
    "\n",
    "#Compare the two arrays:\n",
    "print(np.max(array_slow - array_fast))\n",
    "print(np.min(array_slow - array_fast))"
   ]
  },
  {
   "cell_type": "markdown",
   "metadata": {},
   "source": [
    "## Example 2\n",
    "\n",
    "Let's say we have a 1-dimensional array with 500,000 elements, increasing incrementally from 0 to 500,000:"
   ]
  },
  {
   "cell_type": "code",
   "execution_count": 14,
   "metadata": {},
   "outputs": [],
   "source": [
    "array = np.arange(500000)"
   ]
  },
  {
   "cell_type": "markdown",
   "metadata": {},
   "source": [
    "Let's print the first 10 and last 10 elements of the array to see what they contain:"
   ]
  },
  {
   "cell_type": "code",
   "execution_count": 15,
   "metadata": {},
   "outputs": [
    {
     "name": "stdout",
     "output_type": "stream",
     "text": [
      "[0 1 2 3 4 5 6 7 8 9]\n",
      "[499990 499991 499992 499993 499994 499995 499996 499997 499998 499999]\n"
     ]
    }
   ],
   "source": [
    "print(array[:10]) #first 10 elements of array\n",
    "print(array[-10:]) #last 10 elements of array"
   ]
  },
  {
   "cell_type": "markdown",
   "metadata": {},
   "source": [
    "Let's now calculate the difference between each element and the one preceding it.\n",
    "\n",
    "One such way of doing this is to iterate over every element from the 2nd one to the end (since no element comes before the 1st one), and take their difference:"
   ]
  },
  {
   "cell_type": "code",
   "execution_count": 16,
   "metadata": {},
   "outputs": [
    {
     "name": "stdout",
     "output_type": "stream",
     "text": [
      "Total seconds: 0.269843\n"
     ]
    }
   ],
   "source": [
    "start_time = dt.datetime.now()\n",
    "\n",
    "difference_array_slow = []\n",
    "for i in range(1,len(array)):\n",
    "    difference_array_slow.append(array[i] - array[i-1])\n",
    "            \n",
    "end_time = dt.datetime.now()\n",
    "print(f\"Total seconds: {(end_time - start_time).total_seconds()}\")"
   ]
  },
  {
   "cell_type": "markdown",
   "metadata": {},
   "source": [
    "Let's now perform the same operation using Numpy vectorization:"
   ]
  },
  {
   "cell_type": "code",
   "execution_count": 17,
   "metadata": {},
   "outputs": [
    {
     "name": "stdout",
     "output_type": "stream",
     "text": [
      "Total seconds: 0.00152\n"
     ]
    }
   ],
   "source": [
    "start_time = dt.datetime.now()\n",
    "\n",
    "difference_array_fast = array[1:] - array[:-1]\n",
    "            \n",
    "end_time = dt.datetime.now()\n",
    "print(f\"Total seconds: {(end_time - start_time).total_seconds()}\")"
   ]
  },
  {
   "cell_type": "markdown",
   "metadata": {},
   "source": [
    "To convince us they're the same, let's compare the difference between these arrays:"
   ]
  },
  {
   "cell_type": "code",
   "execution_count": 18,
   "metadata": {},
   "outputs": [
    {
     "name": "stdout",
     "output_type": "stream",
     "text": [
      "0\n",
      "0\n"
     ]
    }
   ],
   "source": [
    "comparison = difference_array_fast - np.array(difference_array_slow)\n",
    "print(np.max(comparison))\n",
    "print(np.min(comparison))"
   ]
  },
  {
   "cell_type": "code",
   "execution_count": null,
   "metadata": {},
   "outputs": [],
   "source": []
  }
 ],
 "metadata": {
  "kernelspec": {
   "display_name": "Python [conda env:test3]",
   "language": "python",
   "name": "conda-env-test3-py"
  },
  "language_info": {
   "codemirror_mode": {
    "name": "ipython",
    "version": 3
   },
   "file_extension": ".py",
   "mimetype": "text/x-python",
   "name": "python",
   "nbconvert_exporter": "python",
   "pygments_lexer": "ipython3",
   "version": "3.6.7"
  }
 },
 "nbformat": 4,
 "nbformat_minor": 2
}
